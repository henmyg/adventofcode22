{
 "cells": [
  {
   "cell_type": "code",
   "execution_count": 107,
   "metadata": {},
   "outputs": [],
   "source": [
    "import re\n",
    "\n",
    "filename = \"input\"\n",
    "with open(filename) as file:\n",
    "    lines = list( map(lambda l: l[:-1] , file.readlines() ))"
   ]
  },
  {
   "cell_type": "code",
   "execution_count": 108,
   "metadata": {},
   "outputs": [],
   "source": [
    "def update(sizes, key, size):\n",
    "    if key in sizes.keys():\n",
    "        sizes[key] += size\n",
    "    else:\n",
    "        sizes[key] = size"
   ]
  },
  {
   "cell_type": "code",
   "execution_count": 109,
   "metadata": {},
   "outputs": [
    {
     "name": "stdout",
     "output_type": "stream",
     "text": [
      "Task one: 1427048\n"
     ]
    }
   ],
   "source": [
    "\n",
    "\n",
    "dir = [\"\"]\n",
    "sizes = {\"\": 0}\n",
    "totalSizes = {\"\":0}\n",
    "for line in lines:\n",
    "    if line.startswith(\"$ cd /\"):\n",
    "        dir = [\"\"]\n",
    "        continue\n",
    "\n",
    "    if line.startswith(\"$ ls\"):\n",
    "        continue\n",
    "\n",
    "    if line.startswith(\"dir\"):\n",
    "        continue\n",
    "\n",
    "    if line.startswith(\"$ cd ..\"):\n",
    "        dir.pop()\n",
    "        continue\n",
    "\n",
    "    if line.startswith(\"$ cd \"):\n",
    "        newdir = line.split(\"$ cd \")[1]\n",
    "        dir.append(newdir)\n",
    "        continue\n",
    "\n",
    "    if re.match(\"\\d* .*\", line):\n",
    "        size = int( line.split(\" \")[0] )\n",
    "        key = str.join(\"/\", dir)\n",
    "\n",
    "        update(sizes, key, size)\n",
    "\n",
    "        #print(\"==\")\n",
    "        #print(\"key\" + key)\n",
    "        for di in range(len(dir)):\n",
    "            k = str.join(\"/\", dir[:di+1])\n",
    "            #print(\"k\" + k)\n",
    "            update(totalSizes, k, size)\n",
    "\n",
    "        continue\n",
    "\n",
    "\n",
    "#print(sizes)\n",
    "#print(totalSizes)\n",
    "\n",
    "maxSize = 100000\n",
    "relevant = list(filter(lambda s: s <= maxSize , totalSizes.values()))\n",
    "print(\"Task one: \" + str(sum(relevant)))"
   ]
  },
  {
   "cell_type": "code",
   "execution_count": 110,
   "metadata": {},
   "outputs": [
    {
     "name": "stdout",
     "output_type": "stream",
     "text": [
      "To delete 2536714\n",
      "2940614\n"
     ]
    }
   ],
   "source": [
    "freeSpace = 70000000 - totalSizes[\"\"]\n",
    "missing = 30000000 - freeSpace\n",
    "print(\"To delete \" + str(missing))\n",
    "\n",
    "#print(totalSizes)\n",
    "\n",
    "#totalSizes\n",
    "\n",
    "\n",
    "relevant = filter(lambda s: s >= missing, totalSizes.values())\n",
    "toFind = min(relevant)\n",
    "print(toFind)\n",
    "\n",
    "# print(toFind-minToDelete)"
   ]
  }
 ],
 "metadata": {
  "kernelspec": {
   "display_name": "Python 3.9.13 64-bit",
   "language": "python",
   "name": "python3"
  },
  "language_info": {
   "codemirror_mode": {
    "name": "ipython",
    "version": 3
   },
   "file_extension": ".py",
   "mimetype": "text/x-python",
   "name": "python",
   "nbconvert_exporter": "python",
   "pygments_lexer": "ipython3",
   "version": "3.9.13"
  },
  "orig_nbformat": 4,
  "vscode": {
   "interpreter": {
    "hash": "b0fa6594d8f4cbf19f97940f81e996739fb7646882a419484c72d19e05852a7e"
   }
  }
 },
 "nbformat": 4,
 "nbformat_minor": 2
}
